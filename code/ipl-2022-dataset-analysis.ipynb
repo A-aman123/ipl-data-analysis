{
 "cells": [
  {
   "cell_type": "markdown",
   "id": "0cbe627f",
   "metadata": {
    "papermill": {
     "duration": 0.010221,
     "end_time": "2024-04-16T09:19:23.969735",
     "exception": false,
     "start_time": "2024-04-16T09:19:23.959514",
     "status": "completed"
    },
    "tags": []
   },
   "source": [
    "# IPL 2022 dataset Analysis"
   ]
  },
  {
   "cell_type": "code",
   "execution_count": 1,
   "id": "af35ee12",
   "metadata": {
    "execution": {
     "iopub.execute_input": "2024-04-16T09:19:23.992268Z",
     "iopub.status.busy": "2024-04-16T09:19:23.991765Z",
     "iopub.status.idle": "2024-04-16T09:19:25.018176Z",
     "shell.execute_reply": "2024-04-16T09:19:25.017023Z"
    },
    "papermill": {
     "duration": 1.040977,
     "end_time": "2024-04-16T09:19:25.021079",
     "exception": false,
     "start_time": "2024-04-16T09:19:23.980102",
     "status": "completed"
    },
    "tags": []
   },
   "outputs": [],
   "source": [
    "import pandas as pd"
   ]
  },
  {
   "cell_type": "code",
   "execution_count": 2,
   "id": "cf7cbed6",
   "metadata": {
    "execution": {
     "iopub.execute_input": "2024-04-16T09:19:25.042497Z",
     "iopub.status.busy": "2024-04-16T09:19:25.041919Z",
     "iopub.status.idle": "2024-04-16T09:19:25.094095Z",
     "shell.execute_reply": "2024-04-16T09:19:25.092976Z"
    },
    "papermill": {
     "duration": 0.066267,
     "end_time": "2024-04-16T09:19:25.097056",
     "exception": false,
     "start_time": "2024-04-16T09:19:25.030789",
     "status": "completed"
    },
    "tags": []
   },
   "outputs": [
    {
     "data": {
      "text/html": [
       "<div>\n",
       "<style scoped>\n",
       "    .dataframe tbody tr th:only-of-type {\n",
       "        vertical-align: middle;\n",
       "    }\n",
       "\n",
       "    .dataframe tbody tr th {\n",
       "        vertical-align: top;\n",
       "    }\n",
       "\n",
       "    .dataframe thead th {\n",
       "        text-align: right;\n",
       "    }\n",
       "</style>\n",
       "<table border=\"1\" class=\"dataframe\">\n",
       "  <thead>\n",
       "    <tr style=\"text-align: right;\">\n",
       "      <th></th>\n",
       "      <th>match_id</th>\n",
       "      <th>date</th>\n",
       "      <th>venue</th>\n",
       "      <th>team1</th>\n",
       "      <th>team2</th>\n",
       "      <th>stage</th>\n",
       "      <th>toss_winner</th>\n",
       "      <th>toss_decision</th>\n",
       "      <th>first_ings_score</th>\n",
       "      <th>first_ings_wkts</th>\n",
       "      <th>second_ings_score</th>\n",
       "      <th>second_ings_wkts</th>\n",
       "      <th>match_winner</th>\n",
       "      <th>won_by</th>\n",
       "      <th>margin</th>\n",
       "      <th>player_of_the_match</th>\n",
       "      <th>top_scorer</th>\n",
       "      <th>highscore</th>\n",
       "      <th>best_bowling</th>\n",
       "      <th>best_bowling_figure</th>\n",
       "    </tr>\n",
       "  </thead>\n",
       "  <tbody>\n",
       "    <tr>\n",
       "      <th>0</th>\n",
       "      <td>1</td>\n",
       "      <td>March 26,2022</td>\n",
       "      <td>Wankhede Stadium, Mumbai</td>\n",
       "      <td>Chennai</td>\n",
       "      <td>Kolkata</td>\n",
       "      <td>Group</td>\n",
       "      <td>Kolkata</td>\n",
       "      <td>Field</td>\n",
       "      <td>131</td>\n",
       "      <td>5</td>\n",
       "      <td>133</td>\n",
       "      <td>4</td>\n",
       "      <td>Kolkata</td>\n",
       "      <td>Wickets</td>\n",
       "      <td>6</td>\n",
       "      <td>Umesh Yadav</td>\n",
       "      <td>MS Dhoni</td>\n",
       "      <td>50</td>\n",
       "      <td>Dwayne Bravo</td>\n",
       "      <td>3--20</td>\n",
       "    </tr>\n",
       "    <tr>\n",
       "      <th>1</th>\n",
       "      <td>2</td>\n",
       "      <td>March 27,2022</td>\n",
       "      <td>Brabourne Stadium, Mumbai</td>\n",
       "      <td>Delhi</td>\n",
       "      <td>Mumbai</td>\n",
       "      <td>Group</td>\n",
       "      <td>Delhi</td>\n",
       "      <td>Field</td>\n",
       "      <td>177</td>\n",
       "      <td>5</td>\n",
       "      <td>179</td>\n",
       "      <td>6</td>\n",
       "      <td>Delhi</td>\n",
       "      <td>Wickets</td>\n",
       "      <td>4</td>\n",
       "      <td>Kuldeep Yadav</td>\n",
       "      <td>Ishan Kishan</td>\n",
       "      <td>81</td>\n",
       "      <td>Kuldeep Yadav</td>\n",
       "      <td>3--18</td>\n",
       "    </tr>\n",
       "    <tr>\n",
       "      <th>2</th>\n",
       "      <td>3</td>\n",
       "      <td>March 27,2022</td>\n",
       "      <td>Dr DY Patil Sports Academy, Mumbai</td>\n",
       "      <td>Banglore</td>\n",
       "      <td>Punjab</td>\n",
       "      <td>Group</td>\n",
       "      <td>Punjab</td>\n",
       "      <td>Field</td>\n",
       "      <td>205</td>\n",
       "      <td>2</td>\n",
       "      <td>208</td>\n",
       "      <td>5</td>\n",
       "      <td>Punjab</td>\n",
       "      <td>Wickets</td>\n",
       "      <td>5</td>\n",
       "      <td>Odean Smith</td>\n",
       "      <td>Faf du Plessis</td>\n",
       "      <td>88</td>\n",
       "      <td>Mohammed Siraj</td>\n",
       "      <td>2--59</td>\n",
       "    </tr>\n",
       "    <tr>\n",
       "      <th>3</th>\n",
       "      <td>4</td>\n",
       "      <td>March 28,2022</td>\n",
       "      <td>Wankhede Stadium, Mumbai</td>\n",
       "      <td>Gujarat</td>\n",
       "      <td>Lucknow</td>\n",
       "      <td>Group</td>\n",
       "      <td>Gujarat</td>\n",
       "      <td>Field</td>\n",
       "      <td>158</td>\n",
       "      <td>6</td>\n",
       "      <td>161</td>\n",
       "      <td>5</td>\n",
       "      <td>Gujarat</td>\n",
       "      <td>Wickets</td>\n",
       "      <td>5</td>\n",
       "      <td>Mohammed Shami</td>\n",
       "      <td>Deepak Hooda</td>\n",
       "      <td>55</td>\n",
       "      <td>Mohammed Shami</td>\n",
       "      <td>3--25</td>\n",
       "    </tr>\n",
       "    <tr>\n",
       "      <th>4</th>\n",
       "      <td>5</td>\n",
       "      <td>March 29,2022</td>\n",
       "      <td>Maharashtra Cricket Association Stadium,Pune</td>\n",
       "      <td>Hyderabad</td>\n",
       "      <td>Rajasthan</td>\n",
       "      <td>Group</td>\n",
       "      <td>Hyderabad</td>\n",
       "      <td>Field</td>\n",
       "      <td>210</td>\n",
       "      <td>6</td>\n",
       "      <td>149</td>\n",
       "      <td>7</td>\n",
       "      <td>Rajasthan</td>\n",
       "      <td>Runs</td>\n",
       "      <td>61</td>\n",
       "      <td>Sanju Samson</td>\n",
       "      <td>Aiden Markram</td>\n",
       "      <td>57</td>\n",
       "      <td>Yuzvendra Chahal</td>\n",
       "      <td>3--22</td>\n",
       "    </tr>\n",
       "    <tr>\n",
       "      <th>...</th>\n",
       "      <td>...</td>\n",
       "      <td>...</td>\n",
       "      <td>...</td>\n",
       "      <td>...</td>\n",
       "      <td>...</td>\n",
       "      <td>...</td>\n",
       "      <td>...</td>\n",
       "      <td>...</td>\n",
       "      <td>...</td>\n",
       "      <td>...</td>\n",
       "      <td>...</td>\n",
       "      <td>...</td>\n",
       "      <td>...</td>\n",
       "      <td>...</td>\n",
       "      <td>...</td>\n",
       "      <td>...</td>\n",
       "      <td>...</td>\n",
       "      <td>...</td>\n",
       "      <td>...</td>\n",
       "      <td>...</td>\n",
       "    </tr>\n",
       "    <tr>\n",
       "      <th>69</th>\n",
       "      <td>70</td>\n",
       "      <td>May 22,2022</td>\n",
       "      <td>Wankhede Stadium, Mumbai</td>\n",
       "      <td>Hyderabad</td>\n",
       "      <td>Punjab</td>\n",
       "      <td>Group</td>\n",
       "      <td>Hyderabad</td>\n",
       "      <td>Bat</td>\n",
       "      <td>157</td>\n",
       "      <td>8</td>\n",
       "      <td>160</td>\n",
       "      <td>5</td>\n",
       "      <td>Punjab</td>\n",
       "      <td>Wickets</td>\n",
       "      <td>5</td>\n",
       "      <td>Harpreet Brar</td>\n",
       "      <td>Liam Livingstone</td>\n",
       "      <td>49</td>\n",
       "      <td>Harpreet Brar</td>\n",
       "      <td>3--26</td>\n",
       "    </tr>\n",
       "    <tr>\n",
       "      <th>70</th>\n",
       "      <td>71</td>\n",
       "      <td>May 24,2022</td>\n",
       "      <td>Eden Gardens, Kolkata</td>\n",
       "      <td>Gujarat</td>\n",
       "      <td>Rajasthan</td>\n",
       "      <td>Playoff</td>\n",
       "      <td>Gujarat</td>\n",
       "      <td>Field</td>\n",
       "      <td>188</td>\n",
       "      <td>6</td>\n",
       "      <td>191</td>\n",
       "      <td>3</td>\n",
       "      <td>Gujarat</td>\n",
       "      <td>Wickets</td>\n",
       "      <td>7</td>\n",
       "      <td>David Miller</td>\n",
       "      <td>Jos Buttler</td>\n",
       "      <td>89</td>\n",
       "      <td>Hardik Pandya</td>\n",
       "      <td>1--14</td>\n",
       "    </tr>\n",
       "    <tr>\n",
       "      <th>71</th>\n",
       "      <td>72</td>\n",
       "      <td>May 25,2022</td>\n",
       "      <td>Eden Gardens, Kolkata</td>\n",
       "      <td>Banglore</td>\n",
       "      <td>Lucknow</td>\n",
       "      <td>Playoff</td>\n",
       "      <td>Lucknow</td>\n",
       "      <td>Field</td>\n",
       "      <td>207</td>\n",
       "      <td>4</td>\n",
       "      <td>193</td>\n",
       "      <td>6</td>\n",
       "      <td>Banglore</td>\n",
       "      <td>Runs</td>\n",
       "      <td>14</td>\n",
       "      <td>Rajat Patidar</td>\n",
       "      <td>Rajat Patidar</td>\n",
       "      <td>112</td>\n",
       "      <td>Josh Hazlewood</td>\n",
       "      <td>3--43</td>\n",
       "    </tr>\n",
       "    <tr>\n",
       "      <th>72</th>\n",
       "      <td>73</td>\n",
       "      <td>May 27,2022</td>\n",
       "      <td>Narendra Modi Stadium, Ahmedabad</td>\n",
       "      <td>Banglore</td>\n",
       "      <td>Rajasthan</td>\n",
       "      <td>Playoff</td>\n",
       "      <td>Rajasthan</td>\n",
       "      <td>Field</td>\n",
       "      <td>157</td>\n",
       "      <td>8</td>\n",
       "      <td>161</td>\n",
       "      <td>3</td>\n",
       "      <td>Rajasthan</td>\n",
       "      <td>Wickets</td>\n",
       "      <td>7</td>\n",
       "      <td>Jos Buttler</td>\n",
       "      <td>Jos Buttler</td>\n",
       "      <td>106</td>\n",
       "      <td>Prasidh Krishna</td>\n",
       "      <td>3--22</td>\n",
       "    </tr>\n",
       "    <tr>\n",
       "      <th>73</th>\n",
       "      <td>74</td>\n",
       "      <td>May 29,2022</td>\n",
       "      <td>Narendra Modi Stadium, Ahmedabad</td>\n",
       "      <td>Gujarat</td>\n",
       "      <td>Rajasthan</td>\n",
       "      <td>Final</td>\n",
       "      <td>Rajasthan</td>\n",
       "      <td>Bat</td>\n",
       "      <td>130</td>\n",
       "      <td>9</td>\n",
       "      <td>133</td>\n",
       "      <td>3</td>\n",
       "      <td>Gujarat</td>\n",
       "      <td>Wickets</td>\n",
       "      <td>7</td>\n",
       "      <td>Hardik Pandya</td>\n",
       "      <td>Shubman Gill</td>\n",
       "      <td>45</td>\n",
       "      <td>Hardik Pandya</td>\n",
       "      <td>3--17</td>\n",
       "    </tr>\n",
       "  </tbody>\n",
       "</table>\n",
       "<p>74 rows × 20 columns</p>\n",
       "</div>"
      ],
      "text/plain": [
       "    match_id           date                                         venue  \\\n",
       "0          1  March 26,2022                      Wankhede Stadium, Mumbai   \n",
       "1          2  March 27,2022                     Brabourne Stadium, Mumbai   \n",
       "2          3  March 27,2022            Dr DY Patil Sports Academy, Mumbai   \n",
       "3          4  March 28,2022                      Wankhede Stadium, Mumbai   \n",
       "4          5  March 29,2022  Maharashtra Cricket Association Stadium,Pune   \n",
       "..       ...            ...                                           ...   \n",
       "69        70    May 22,2022                      Wankhede Stadium, Mumbai   \n",
       "70        71    May 24,2022                         Eden Gardens, Kolkata   \n",
       "71        72    May 25,2022                         Eden Gardens, Kolkata   \n",
       "72        73    May 27,2022              Narendra Modi Stadium, Ahmedabad   \n",
       "73        74    May 29,2022              Narendra Modi Stadium, Ahmedabad   \n",
       "\n",
       "        team1      team2    stage toss_winner toss_decision  first_ings_score  \\\n",
       "0     Chennai    Kolkata    Group     Kolkata         Field               131   \n",
       "1       Delhi     Mumbai    Group       Delhi         Field               177   \n",
       "2    Banglore     Punjab    Group      Punjab         Field               205   \n",
       "3     Gujarat    Lucknow    Group     Gujarat         Field               158   \n",
       "4   Hyderabad  Rajasthan    Group   Hyderabad         Field               210   \n",
       "..        ...        ...      ...         ...           ...               ...   \n",
       "69  Hyderabad     Punjab    Group   Hyderabad           Bat               157   \n",
       "70    Gujarat  Rajasthan  Playoff     Gujarat         Field               188   \n",
       "71   Banglore    Lucknow  Playoff     Lucknow         Field               207   \n",
       "72   Banglore  Rajasthan  Playoff   Rajasthan         Field               157   \n",
       "73    Gujarat  Rajasthan    Final   Rajasthan           Bat               130   \n",
       "\n",
       "    first_ings_wkts  second_ings_score  second_ings_wkts match_winner  \\\n",
       "0                 5                133                 4      Kolkata   \n",
       "1                 5                179                 6        Delhi   \n",
       "2                 2                208                 5       Punjab   \n",
       "3                 6                161                 5      Gujarat   \n",
       "4                 6                149                 7    Rajasthan   \n",
       "..              ...                ...               ...          ...   \n",
       "69                8                160                 5       Punjab   \n",
       "70                6                191                 3      Gujarat   \n",
       "71                4                193                 6     Banglore   \n",
       "72                8                161                 3    Rajasthan   \n",
       "73                9                133                 3      Gujarat   \n",
       "\n",
       "     won_by  margin player_of_the_match        top_scorer  highscore  \\\n",
       "0   Wickets       6         Umesh Yadav          MS Dhoni         50   \n",
       "1   Wickets       4       Kuldeep Yadav      Ishan Kishan         81   \n",
       "2   Wickets       5         Odean Smith    Faf du Plessis         88   \n",
       "3   Wickets       5      Mohammed Shami      Deepak Hooda         55   \n",
       "4      Runs      61        Sanju Samson     Aiden Markram         57   \n",
       "..      ...     ...                 ...               ...        ...   \n",
       "69  Wickets       5       Harpreet Brar  Liam Livingstone         49   \n",
       "70  Wickets       7        David Miller       Jos Buttler         89   \n",
       "71     Runs      14       Rajat Patidar     Rajat Patidar        112   \n",
       "72  Wickets       7         Jos Buttler       Jos Buttler        106   \n",
       "73  Wickets       7       Hardik Pandya      Shubman Gill         45   \n",
       "\n",
       "        best_bowling best_bowling_figure  \n",
       "0       Dwayne Bravo               3--20  \n",
       "1      Kuldeep Yadav               3--18  \n",
       "2     Mohammed Siraj               2--59  \n",
       "3     Mohammed Shami               3--25  \n",
       "4   Yuzvendra Chahal               3--22  \n",
       "..               ...                 ...  \n",
       "69     Harpreet Brar               3--26  \n",
       "70     Hardik Pandya               1--14  \n",
       "71    Josh Hazlewood               3--43  \n",
       "72   Prasidh Krishna               3--22  \n",
       "73     Hardik Pandya               3--17  \n",
       "\n",
       "[74 rows x 20 columns]"
      ]
     },
     "execution_count": 2,
     "metadata": {},
     "output_type": "execute_result"
    }
   ],
   "source": [
    "ipl = pd.read_csv(\"/kaggle/input/ipl-2022dataset/Book_ipl22_ver_33.csv\")\n",
    "ipl"
   ]
  },
  {
   "cell_type": "markdown",
   "id": "9b6071ce",
   "metadata": {
    "papermill": {
     "duration": 0.010157,
     "end_time": "2024-04-16T09:19:25.117607",
     "exception": false,
     "start_time": "2024-04-16T09:19:25.107450",
     "status": "completed"
    },
    "tags": []
   },
   "source": [
    "**Data Cleaning and processing**"
   ]
  },
  {
   "cell_type": "code",
   "execution_count": 3,
   "id": "226112b1",
   "metadata": {
    "execution": {
     "iopub.execute_input": "2024-04-16T09:19:25.140142Z",
     "iopub.status.busy": "2024-04-16T09:19:25.139761Z",
     "iopub.status.idle": "2024-04-16T09:19:25.168914Z",
     "shell.execute_reply": "2024-04-16T09:19:25.167834Z"
    },
    "papermill": {
     "duration": 0.043773,
     "end_time": "2024-04-16T09:19:25.171807",
     "exception": false,
     "start_time": "2024-04-16T09:19:25.128034",
     "status": "completed"
    },
    "tags": []
   },
   "outputs": [
    {
     "name": "stdout",
     "output_type": "stream",
     "text": [
      "<class 'pandas.core.frame.DataFrame'>\n",
      "RangeIndex: 74 entries, 0 to 73\n",
      "Data columns (total 20 columns):\n",
      " #   Column               Non-Null Count  Dtype \n",
      "---  ------               --------------  ----- \n",
      " 0   match_id             74 non-null     int64 \n",
      " 1   date                 74 non-null     object\n",
      " 2   venue                74 non-null     object\n",
      " 3   team1                74 non-null     object\n",
      " 4   team2                74 non-null     object\n",
      " 5   stage                74 non-null     object\n",
      " 6   toss_winner          74 non-null     object\n",
      " 7   toss_decision        74 non-null     object\n",
      " 8   first_ings_score     74 non-null     int64 \n",
      " 9   first_ings_wkts      74 non-null     int64 \n",
      " 10  second_ings_score    74 non-null     int64 \n",
      " 11  second_ings_wkts     74 non-null     int64 \n",
      " 12  match_winner         74 non-null     object\n",
      " 13  won_by               74 non-null     object\n",
      " 14  margin               74 non-null     int64 \n",
      " 15  player_of_the_match  74 non-null     object\n",
      " 16  top_scorer           74 non-null     object\n",
      " 17  highscore            74 non-null     int64 \n",
      " 18  best_bowling         74 non-null     object\n",
      " 19  best_bowling_figure  74 non-null     object\n",
      "dtypes: int64(7), object(13)\n",
      "memory usage: 11.7+ KB\n"
     ]
    }
   ],
   "source": [
    "ipl.info()     # info() prints the summary of the dataframe"
   ]
  },
  {
   "cell_type": "code",
   "execution_count": 4,
   "id": "37fb471d",
   "metadata": {
    "execution": {
     "iopub.execute_input": "2024-04-16T09:19:25.195272Z",
     "iopub.status.busy": "2024-04-16T09:19:25.194403Z",
     "iopub.status.idle": "2024-04-16T09:19:25.228418Z",
     "shell.execute_reply": "2024-04-16T09:19:25.227272Z"
    },
    "papermill": {
     "duration": 0.048816,
     "end_time": "2024-04-16T09:19:25.231173",
     "exception": false,
     "start_time": "2024-04-16T09:19:25.182357",
     "status": "completed"
    },
    "tags": []
   },
   "outputs": [
    {
     "data": {
      "text/html": [
       "<div>\n",
       "<style scoped>\n",
       "    .dataframe tbody tr th:only-of-type {\n",
       "        vertical-align: middle;\n",
       "    }\n",
       "\n",
       "    .dataframe tbody tr th {\n",
       "        vertical-align: top;\n",
       "    }\n",
       "\n",
       "    .dataframe thead th {\n",
       "        text-align: right;\n",
       "    }\n",
       "</style>\n",
       "<table border=\"1\" class=\"dataframe\">\n",
       "  <thead>\n",
       "    <tr style=\"text-align: right;\">\n",
       "      <th></th>\n",
       "      <th>match_id</th>\n",
       "      <th>first_ings_score</th>\n",
       "      <th>first_ings_wkts</th>\n",
       "      <th>second_ings_score</th>\n",
       "      <th>second_ings_wkts</th>\n",
       "      <th>margin</th>\n",
       "      <th>highscore</th>\n",
       "    </tr>\n",
       "  </thead>\n",
       "  <tbody>\n",
       "    <tr>\n",
       "      <th>count</th>\n",
       "      <td>74.000000</td>\n",
       "      <td>74.000000</td>\n",
       "      <td>74.000000</td>\n",
       "      <td>74.000000</td>\n",
       "      <td>74.000000</td>\n",
       "      <td>74.000000</td>\n",
       "      <td>74.000000</td>\n",
       "    </tr>\n",
       "    <tr>\n",
       "      <th>mean</th>\n",
       "      <td>37.500000</td>\n",
       "      <td>171.121622</td>\n",
       "      <td>6.135135</td>\n",
       "      <td>158.540541</td>\n",
       "      <td>6.175676</td>\n",
       "      <td>16.972973</td>\n",
       "      <td>71.716216</td>\n",
       "    </tr>\n",
       "    <tr>\n",
       "      <th>std</th>\n",
       "      <td>21.505813</td>\n",
       "      <td>29.048355</td>\n",
       "      <td>2.222699</td>\n",
       "      <td>29.299207</td>\n",
       "      <td>2.639832</td>\n",
       "      <td>19.651047</td>\n",
       "      <td>20.705052</td>\n",
       "    </tr>\n",
       "    <tr>\n",
       "      <th>min</th>\n",
       "      <td>1.000000</td>\n",
       "      <td>68.000000</td>\n",
       "      <td>0.000000</td>\n",
       "      <td>72.000000</td>\n",
       "      <td>1.000000</td>\n",
       "      <td>2.000000</td>\n",
       "      <td>28.000000</td>\n",
       "    </tr>\n",
       "    <tr>\n",
       "      <th>25%</th>\n",
       "      <td>19.250000</td>\n",
       "      <td>154.250000</td>\n",
       "      <td>5.000000</td>\n",
       "      <td>142.750000</td>\n",
       "      <td>4.000000</td>\n",
       "      <td>5.250000</td>\n",
       "      <td>57.000000</td>\n",
       "    </tr>\n",
       "    <tr>\n",
       "      <th>50%</th>\n",
       "      <td>37.500000</td>\n",
       "      <td>169.500000</td>\n",
       "      <td>6.000000</td>\n",
       "      <td>160.000000</td>\n",
       "      <td>6.000000</td>\n",
       "      <td>8.000000</td>\n",
       "      <td>68.000000</td>\n",
       "    </tr>\n",
       "    <tr>\n",
       "      <th>75%</th>\n",
       "      <td>55.750000</td>\n",
       "      <td>192.750000</td>\n",
       "      <td>8.000000</td>\n",
       "      <td>176.000000</td>\n",
       "      <td>8.000000</td>\n",
       "      <td>18.000000</td>\n",
       "      <td>87.750000</td>\n",
       "    </tr>\n",
       "    <tr>\n",
       "      <th>max</th>\n",
       "      <td>74.000000</td>\n",
       "      <td>222.000000</td>\n",
       "      <td>10.000000</td>\n",
       "      <td>211.000000</td>\n",
       "      <td>10.000000</td>\n",
       "      <td>91.000000</td>\n",
       "      <td>140.000000</td>\n",
       "    </tr>\n",
       "  </tbody>\n",
       "</table>\n",
       "</div>"
      ],
      "text/plain": [
       "        match_id  first_ings_score  first_ings_wkts  second_ings_score  \\\n",
       "count  74.000000         74.000000        74.000000          74.000000   \n",
       "mean   37.500000        171.121622         6.135135         158.540541   \n",
       "std    21.505813         29.048355         2.222699          29.299207   \n",
       "min     1.000000         68.000000         0.000000          72.000000   \n",
       "25%    19.250000        154.250000         5.000000         142.750000   \n",
       "50%    37.500000        169.500000         6.000000         160.000000   \n",
       "75%    55.750000        192.750000         8.000000         176.000000   \n",
       "max    74.000000        222.000000        10.000000         211.000000   \n",
       "\n",
       "       second_ings_wkts     margin   highscore  \n",
       "count         74.000000  74.000000   74.000000  \n",
       "mean           6.175676  16.972973   71.716216  \n",
       "std            2.639832  19.651047   20.705052  \n",
       "min            1.000000   2.000000   28.000000  \n",
       "25%            4.000000   5.250000   57.000000  \n",
       "50%            6.000000   8.000000   68.000000  \n",
       "75%            8.000000  18.000000   87.750000  \n",
       "max           10.000000  91.000000  140.000000  "
      ]
     },
     "execution_count": 4,
     "metadata": {},
     "output_type": "execute_result"
    }
   ],
   "source": [
    "ipl.describe()"
   ]
  },
  {
   "cell_type": "code",
   "execution_count": 5,
   "id": "9eef9066",
   "metadata": {
    "execution": {
     "iopub.execute_input": "2024-04-16T09:19:25.255672Z",
     "iopub.status.busy": "2024-04-16T09:19:25.255209Z",
     "iopub.status.idle": "2024-04-16T09:19:25.262436Z",
     "shell.execute_reply": "2024-04-16T09:19:25.261285Z"
    },
    "papermill": {
     "duration": 0.022697,
     "end_time": "2024-04-16T09:19:25.265040",
     "exception": false,
     "start_time": "2024-04-16T09:19:25.242343",
     "status": "completed"
    },
    "tags": []
   },
   "outputs": [
    {
     "data": {
      "text/plain": [
       "(74, 20)"
      ]
     },
     "execution_count": 5,
     "metadata": {},
     "output_type": "execute_result"
    }
   ],
   "source": [
    "ipl.shape   "
   ]
  },
  {
   "cell_type": "code",
   "execution_count": 6,
   "id": "14d324a0",
   "metadata": {
    "execution": {
     "iopub.execute_input": "2024-04-16T09:19:25.289744Z",
     "iopub.status.busy": "2024-04-16T09:19:25.289341Z",
     "iopub.status.idle": "2024-04-16T09:19:25.312330Z",
     "shell.execute_reply": "2024-04-16T09:19:25.311234Z"
    },
    "papermill": {
     "duration": 0.038659,
     "end_time": "2024-04-16T09:19:25.314685",
     "exception": false,
     "start_time": "2024-04-16T09:19:25.276026",
     "status": "completed"
    },
    "tags": []
   },
   "outputs": [
    {
     "data": {
      "text/html": [
       "<div>\n",
       "<style scoped>\n",
       "    .dataframe tbody tr th:only-of-type {\n",
       "        vertical-align: middle;\n",
       "    }\n",
       "\n",
       "    .dataframe tbody tr th {\n",
       "        vertical-align: top;\n",
       "    }\n",
       "\n",
       "    .dataframe thead th {\n",
       "        text-align: right;\n",
       "    }\n",
       "</style>\n",
       "<table border=\"1\" class=\"dataframe\">\n",
       "  <thead>\n",
       "    <tr style=\"text-align: right;\">\n",
       "      <th></th>\n",
       "      <th>date</th>\n",
       "      <th>venue</th>\n",
       "      <th>team1</th>\n",
       "      <th>team2</th>\n",
       "      <th>stage</th>\n",
       "      <th>toss_winner</th>\n",
       "      <th>toss_decision</th>\n",
       "      <th>first_ings_score</th>\n",
       "      <th>first_ings_wkts</th>\n",
       "      <th>second_ings_score</th>\n",
       "      <th>second_ings_wkts</th>\n",
       "      <th>match_winner</th>\n",
       "      <th>won_by</th>\n",
       "      <th>margin</th>\n",
       "      <th>player_of_the_match</th>\n",
       "      <th>top_scorer</th>\n",
       "      <th>highscore</th>\n",
       "      <th>best_bowling</th>\n",
       "      <th>best_bowling_figure</th>\n",
       "    </tr>\n",
       "    <tr>\n",
       "      <th>match_id</th>\n",
       "      <th></th>\n",
       "      <th></th>\n",
       "      <th></th>\n",
       "      <th></th>\n",
       "      <th></th>\n",
       "      <th></th>\n",
       "      <th></th>\n",
       "      <th></th>\n",
       "      <th></th>\n",
       "      <th></th>\n",
       "      <th></th>\n",
       "      <th></th>\n",
       "      <th></th>\n",
       "      <th></th>\n",
       "      <th></th>\n",
       "      <th></th>\n",
       "      <th></th>\n",
       "      <th></th>\n",
       "      <th></th>\n",
       "    </tr>\n",
       "  </thead>\n",
       "  <tbody>\n",
       "    <tr>\n",
       "      <th>1</th>\n",
       "      <td>March 26,2022</td>\n",
       "      <td>Wankhede Stadium, Mumbai</td>\n",
       "      <td>Chennai</td>\n",
       "      <td>Kolkata</td>\n",
       "      <td>Group</td>\n",
       "      <td>Kolkata</td>\n",
       "      <td>Field</td>\n",
       "      <td>131</td>\n",
       "      <td>5</td>\n",
       "      <td>133</td>\n",
       "      <td>4</td>\n",
       "      <td>Kolkata</td>\n",
       "      <td>Wickets</td>\n",
       "      <td>6</td>\n",
       "      <td>Umesh Yadav</td>\n",
       "      <td>MS Dhoni</td>\n",
       "      <td>50</td>\n",
       "      <td>Dwayne Bravo</td>\n",
       "      <td>3--20</td>\n",
       "    </tr>\n",
       "    <tr>\n",
       "      <th>2</th>\n",
       "      <td>March 27,2022</td>\n",
       "      <td>Brabourne Stadium, Mumbai</td>\n",
       "      <td>Delhi</td>\n",
       "      <td>Mumbai</td>\n",
       "      <td>Group</td>\n",
       "      <td>Delhi</td>\n",
       "      <td>Field</td>\n",
       "      <td>177</td>\n",
       "      <td>5</td>\n",
       "      <td>179</td>\n",
       "      <td>6</td>\n",
       "      <td>Delhi</td>\n",
       "      <td>Wickets</td>\n",
       "      <td>4</td>\n",
       "      <td>Kuldeep Yadav</td>\n",
       "      <td>Ishan Kishan</td>\n",
       "      <td>81</td>\n",
       "      <td>Kuldeep Yadav</td>\n",
       "      <td>3--18</td>\n",
       "    </tr>\n",
       "    <tr>\n",
       "      <th>3</th>\n",
       "      <td>March 27,2022</td>\n",
       "      <td>Dr DY Patil Sports Academy, Mumbai</td>\n",
       "      <td>Banglore</td>\n",
       "      <td>Punjab</td>\n",
       "      <td>Group</td>\n",
       "      <td>Punjab</td>\n",
       "      <td>Field</td>\n",
       "      <td>205</td>\n",
       "      <td>2</td>\n",
       "      <td>208</td>\n",
       "      <td>5</td>\n",
       "      <td>Punjab</td>\n",
       "      <td>Wickets</td>\n",
       "      <td>5</td>\n",
       "      <td>Odean Smith</td>\n",
       "      <td>Faf du Plessis</td>\n",
       "      <td>88</td>\n",
       "      <td>Mohammed Siraj</td>\n",
       "      <td>2--59</td>\n",
       "    </tr>\n",
       "    <tr>\n",
       "      <th>4</th>\n",
       "      <td>March 28,2022</td>\n",
       "      <td>Wankhede Stadium, Mumbai</td>\n",
       "      <td>Gujarat</td>\n",
       "      <td>Lucknow</td>\n",
       "      <td>Group</td>\n",
       "      <td>Gujarat</td>\n",
       "      <td>Field</td>\n",
       "      <td>158</td>\n",
       "      <td>6</td>\n",
       "      <td>161</td>\n",
       "      <td>5</td>\n",
       "      <td>Gujarat</td>\n",
       "      <td>Wickets</td>\n",
       "      <td>5</td>\n",
       "      <td>Mohammed Shami</td>\n",
       "      <td>Deepak Hooda</td>\n",
       "      <td>55</td>\n",
       "      <td>Mohammed Shami</td>\n",
       "      <td>3--25</td>\n",
       "    </tr>\n",
       "    <tr>\n",
       "      <th>5</th>\n",
       "      <td>March 29,2022</td>\n",
       "      <td>Maharashtra Cricket Association Stadium,Pune</td>\n",
       "      <td>Hyderabad</td>\n",
       "      <td>Rajasthan</td>\n",
       "      <td>Group</td>\n",
       "      <td>Hyderabad</td>\n",
       "      <td>Field</td>\n",
       "      <td>210</td>\n",
       "      <td>6</td>\n",
       "      <td>149</td>\n",
       "      <td>7</td>\n",
       "      <td>Rajasthan</td>\n",
       "      <td>Runs</td>\n",
       "      <td>61</td>\n",
       "      <td>Sanju Samson</td>\n",
       "      <td>Aiden Markram</td>\n",
       "      <td>57</td>\n",
       "      <td>Yuzvendra Chahal</td>\n",
       "      <td>3--22</td>\n",
       "    </tr>\n",
       "  </tbody>\n",
       "</table>\n",
       "</div>"
      ],
      "text/plain": [
       "                   date                                         venue  \\\n",
       "match_id                                                                \n",
       "1         March 26,2022                      Wankhede Stadium, Mumbai   \n",
       "2         March 27,2022                     Brabourne Stadium, Mumbai   \n",
       "3         March 27,2022            Dr DY Patil Sports Academy, Mumbai   \n",
       "4         March 28,2022                      Wankhede Stadium, Mumbai   \n",
       "5         March 29,2022  Maharashtra Cricket Association Stadium,Pune   \n",
       "\n",
       "              team1      team2  stage toss_winner toss_decision  \\\n",
       "match_id                                                          \n",
       "1           Chennai    Kolkata  Group     Kolkata         Field   \n",
       "2             Delhi     Mumbai  Group       Delhi         Field   \n",
       "3          Banglore     Punjab  Group      Punjab         Field   \n",
       "4           Gujarat    Lucknow  Group     Gujarat         Field   \n",
       "5         Hyderabad  Rajasthan  Group   Hyderabad         Field   \n",
       "\n",
       "          first_ings_score  first_ings_wkts  second_ings_score  \\\n",
       "match_id                                                         \n",
       "1                      131                5                133   \n",
       "2                      177                5                179   \n",
       "3                      205                2                208   \n",
       "4                      158                6                161   \n",
       "5                      210                6                149   \n",
       "\n",
       "          second_ings_wkts match_winner   won_by  margin player_of_the_match  \\\n",
       "match_id                                                                       \n",
       "1                        4      Kolkata  Wickets       6         Umesh Yadav   \n",
       "2                        6        Delhi  Wickets       4       Kuldeep Yadav   \n",
       "3                        5       Punjab  Wickets       5         Odean Smith   \n",
       "4                        5      Gujarat  Wickets       5      Mohammed Shami   \n",
       "5                        7    Rajasthan     Runs      61        Sanju Samson   \n",
       "\n",
       "              top_scorer  highscore      best_bowling best_bowling_figure  \n",
       "match_id                                                                   \n",
       "1               MS Dhoni         50      Dwayne Bravo               3--20  \n",
       "2           Ishan Kishan         81     Kuldeep Yadav               3--18  \n",
       "3         Faf du Plessis         88    Mohammed Siraj               2--59  \n",
       "4           Deepak Hooda         55    Mohammed Shami               3--25  \n",
       "5          Aiden Markram         57  Yuzvendra Chahal               3--22  "
      ]
     },
     "execution_count": 6,
     "metadata": {},
     "output_type": "execute_result"
    }
   ],
   "source": [
    "ipl.set_index([\"match_id\"],inplace=True)  # set_index is used to create a index from existing columns\n",
    "ipl.head()"
   ]
  },
  {
   "cell_type": "markdown",
   "id": "c4f17201",
   "metadata": {
    "papermill": {
     "duration": 0.011106,
     "end_time": "2024-04-16T09:19:25.337130",
     "exception": false,
     "start_time": "2024-04-16T09:19:25.326024",
     "status": "completed"
    },
    "tags": []
   },
   "source": [
    "**What are the total number of runs scored in ipl 2022?**"
   ]
  },
  {
   "cell_type": "code",
   "execution_count": 7,
   "id": "95e6c97d",
   "metadata": {
    "execution": {
     "iopub.execute_input": "2024-04-16T09:19:25.361818Z",
     "iopub.status.busy": "2024-04-16T09:19:25.361430Z",
     "iopub.status.idle": "2024-04-16T09:19:25.370042Z",
     "shell.execute_reply": "2024-04-16T09:19:25.368792Z"
    },
    "papermill": {
     "duration": 0.023846,
     "end_time": "2024-04-16T09:19:25.372455",
     "exception": false,
     "start_time": "2024-04-16T09:19:25.348609",
     "status": "completed"
    },
    "tags": []
   },
   "outputs": [
    {
     "data": {
      "text/plain": [
       "24395"
      ]
     },
     "execution_count": 7,
     "metadata": {},
     "output_type": "execute_result"
    }
   ],
   "source": [
    "first_ings_runs = ipl['first_ings_score'].sum()\n",
    "second_ings_runs = ipl['second_ings_score'].sum()\n",
    "Total_runs = first_ings_runs + second_ings_runs\n",
    "Total_runs"
   ]
  },
  {
   "cell_type": "markdown",
   "id": "f3920997",
   "metadata": {
    "papermill": {
     "duration": 0.01145,
     "end_time": "2024-04-16T09:19:25.395449",
     "exception": false,
     "start_time": "2024-04-16T09:19:25.383999",
     "status": "completed"
    },
    "tags": []
   },
   "source": [
    "**What are the highest scores in both the innings?**"
   ]
  },
  {
   "cell_type": "code",
   "execution_count": 8,
   "id": "d3f5e8ac",
   "metadata": {
    "execution": {
     "iopub.execute_input": "2024-04-16T09:19:25.420415Z",
     "iopub.status.busy": "2024-04-16T09:19:25.419978Z",
     "iopub.status.idle": "2024-04-16T09:19:25.430005Z",
     "shell.execute_reply": "2024-04-16T09:19:25.428945Z"
    },
    "papermill": {
     "duration": 0.025538,
     "end_time": "2024-04-16T09:19:25.432568",
     "exception": false,
     "start_time": "2024-04-16T09:19:25.407030",
     "status": "completed"
    },
    "tags": []
   },
   "outputs": [
    {
     "data": {
      "text/plain": [
       "first_ings_score     222\n",
       "second_ings_score    211\n",
       "dtype: int64"
      ]
     },
     "execution_count": 8,
     "metadata": {},
     "output_type": "execute_result"
    }
   ],
   "source": [
    "highest_scores = ipl[['first_ings_score','second_ings_score']].max()\n",
    "highest_scores"
   ]
  },
  {
   "cell_type": "markdown",
   "id": "80a54b40",
   "metadata": {
    "papermill": {
     "duration": 0.01152,
     "end_time": "2024-04-16T09:19:25.456276",
     "exception": false,
     "start_time": "2024-04-16T09:19:25.444756",
     "status": "completed"
    },
    "tags": []
   },
   "source": [
    "**What is the count of decision taken by each team after winning the toss?**"
   ]
  },
  {
   "cell_type": "code",
   "execution_count": 9,
   "id": "9be60577",
   "metadata": {
    "execution": {
     "iopub.execute_input": "2024-04-16T09:19:25.482102Z",
     "iopub.status.busy": "2024-04-16T09:19:25.481100Z",
     "iopub.status.idle": "2024-04-16T09:19:25.494966Z",
     "shell.execute_reply": "2024-04-16T09:19:25.493815Z"
    },
    "papermill": {
     "duration": 0.029397,
     "end_time": "2024-04-16T09:19:25.497441",
     "exception": false,
     "start_time": "2024-04-16T09:19:25.468044",
     "status": "completed"
    },
    "tags": []
   },
   "outputs": [
    {
     "data": {
      "text/plain": [
       "toss_winner  toss_decision\n",
       "Banglore     Bat              2\n",
       "             Field            6\n",
       "Chennai      Bat              2\n",
       "             Field            4\n",
       "Delhi        Field            8\n",
       "Gujarat      Bat              4\n",
       "             Field            6\n",
       "Hyderabad    Bat              1\n",
       "             Field            9\n",
       "Kolkata      Bat              1\n",
       "             Field            7\n",
       "Lucknow      Bat              2\n",
       "             Field            5\n",
       "Mumbai       Field            9\n",
       "Punjab       Bat              1\n",
       "             Field            3\n",
       "Rajasthan    Bat              2\n",
       "             Field            2\n",
       "Name: count, dtype: int64"
      ]
     },
     "execution_count": 9,
     "metadata": {},
     "output_type": "execute_result"
    }
   ],
   "source": [
    "toss_won = ipl[['toss_winner','toss_decision']].value_counts(sort=False)\n",
    "toss_won"
   ]
  },
  {
   "cell_type": "markdown",
   "id": "743fdda9",
   "metadata": {
    "papermill": {
     "duration": 0.011557,
     "end_time": "2024-04-16T09:19:25.520984",
     "exception": false,
     "start_time": "2024-04-16T09:19:25.509427",
     "status": "completed"
    },
    "tags": []
   },
   "source": [
    "**Which player have received the most number of player_of_the_match?**"
   ]
  },
  {
   "cell_type": "code",
   "execution_count": 10,
   "id": "ddcc87f6",
   "metadata": {
    "execution": {
     "iopub.execute_input": "2024-04-16T09:19:25.547446Z",
     "iopub.status.busy": "2024-04-16T09:19:25.547008Z",
     "iopub.status.idle": "2024-04-16T09:19:25.557039Z",
     "shell.execute_reply": "2024-04-16T09:19:25.555790Z"
    },
    "papermill": {
     "duration": 0.026136,
     "end_time": "2024-04-16T09:19:25.559736",
     "exception": false,
     "start_time": "2024-04-16T09:19:25.533600",
     "status": "completed"
    },
    "tags": []
   },
   "outputs": [
    {
     "data": {
      "text/plain": [
       "player_of_the_match\n",
       "Kuldeep Yadav    4\n",
       "Name: valuable player, dtype: int64"
      ]
     },
     "execution_count": 10,
     "metadata": {},
     "output_type": "execute_result"
    }
   ],
   "source": [
    "valuable_player=ipl['player_of_the_match'].value_counts().head(1)\n",
    "valuable_player.name='valuable player'\n",
    "valuable_player"
   ]
  },
  {
   "cell_type": "markdown",
   "id": "eeb90583",
   "metadata": {
    "papermill": {
     "duration": 0.011735,
     "end_time": "2024-04-16T09:19:25.584247",
     "exception": false,
     "start_time": "2024-04-16T09:19:25.572512",
     "status": "completed"
    },
    "tags": []
   },
   "source": []
  },
  {
   "cell_type": "code",
   "execution_count": 11,
   "id": "a5395ed5",
   "metadata": {
    "execution": {
     "iopub.execute_input": "2024-04-16T09:19:25.610439Z",
     "iopub.status.busy": "2024-04-16T09:19:25.610010Z",
     "iopub.status.idle": "2024-04-16T09:19:25.959979Z",
     "shell.execute_reply": "2024-04-16T09:19:25.958862Z"
    },
    "papermill": {
     "duration": 0.366479,
     "end_time": "2024-04-16T09:19:25.963175",
     "exception": false,
     "start_time": "2024-04-16T09:19:25.596696",
     "status": "completed"
    },
    "tags": []
   },
   "outputs": [
    {
     "data": {
      "image/png": "[encoded data removed]",
      "text/plain": [
       "<Figure size 1000x600 with 1 Axes>"
      ]
     },
     "metadata": {},
     "output_type": "display_data"
    }
   ],
   "source": [
    "import matplotlib.pyplot as plt\n",
    "plt.figure(figsize=(10, 6))\n",
    "\n",
    "# Plot line for first_ings_wkts\n",
    "plt.plot(ipl.index, ipl['first_ings_wkts'], marker='.',color='black', label='first_ing')\n",
    "\n",
    "# Plot line for second_ings_wkts\n",
    "plt.plot(ipl.index, ipl['second_ings_wkts'], marker='.',color='red', label='second_ing')\n",
    "\n",
    "plt.xlabel('Match')\n",
    "plt.ylabel('No_of_wickets ')\n",
    "plt.title('Trend of wickets fall')\n",
    "plt.legend()  # Add legend to distinguish between lines\n",
    "plt.grid(True)  # Add grid lines\n",
    "plt.show()"
   ]
  },
  {
   "cell_type": "markdown",
   "id": "de45635a",
   "metadata": {
    "papermill": {
     "duration": 0.013895,
     "end_time": "2024-04-16T09:19:25.990939",
     "exception": false,
     "start_time": "2024-04-16T09:19:25.977044",
     "status": "completed"
    },
    "tags": []
   },
   "source": [
    "**What is the highscore of individual recorded in each match?**"
   ]
  },
  {
   "cell_type": "code",
   "execution_count": 12,
   "id": "ab389e9d",
   "metadata": {
    "execution": {
     "iopub.execute_input": "2024-04-16T09:19:26.020293Z",
     "iopub.status.busy": "2024-04-16T09:19:26.019854Z",
     "iopub.status.idle": "2024-04-16T09:19:26.307620Z",
     "shell.execute_reply": "2024-04-16T09:19:26.306421Z"
    },
    "papermill": {
     "duration": 0.305602,
     "end_time": "2024-04-16T09:19:26.310260",
     "exception": false,
     "start_time": "2024-04-16T09:19:26.004658",
     "status": "completed"
    },
    "tags": []
   },
   "outputs": [
    {
     "data": {
      "image/png": "[encoded data removed]",
      "text/plain": [
       "<Figure size 1000x600 with 1 Axes>"
      ]
     },
     "metadata": {},
     "output_type": "display_data"
    }
   ],
   "source": [
    "import matplotlib.pyplot as plt\n",
    "plt.figure(figsize=(10, 6))\n",
    "plt.scatter(ipl.index, ipl['highscore'], color='green')\n",
    "plt.title('Highest Score in Each Match')\n",
    "plt.xlabel('Match Number')\n",
    "plt.ylabel('Highest Score')\n",
    "plt.grid(True)\n",
    "plt.show()"
   ]
  },
  {
   "cell_type": "markdown",
   "id": "449a4c33",
   "metadata": {
    "papermill": {
     "duration": 0.014101,
     "end_time": "2024-04-16T09:19:26.338612",
     "exception": false,
     "start_time": "2024-04-16T09:19:26.324511",
     "status": "completed"
    },
    "tags": []
   },
   "source": [
    "**combining multiple columns into one column**"
   ]
  },
  {
   "cell_type": "code",
   "execution_count": 13,
   "id": "5686b701",
   "metadata": {
    "execution": {
     "iopub.execute_input": "2024-04-16T09:19:26.369258Z",
     "iopub.status.busy": "2024-04-16T09:19:26.368825Z",
     "iopub.status.idle": "2024-04-16T09:19:26.380864Z",
     "shell.execute_reply": "2024-04-16T09:19:26.379740Z"
    },
    "papermill": {
     "duration": 0.030258,
     "end_time": "2024-04-16T09:19:26.383282",
     "exception": false,
     "start_time": "2024-04-16T09:19:26.353024",
     "status": "completed"
    },
    "tags": []
   },
   "outputs": [],
   "source": [
    "ipl['toss'] = ipl[['toss_winner','toss_decision']].agg('-'.join,axis=1)\n",
    "ipl.drop(['toss_winner','toss_decision'],axis=1,inplace=True)\n",
    "col_a = ipl.pop('toss')\n",
    "ipl.insert(5, 'toss', col_a)"
   ]
  },
  {
   "cell_type": "code",
   "execution_count": 14,
   "id": "88f6f1b9",
   "metadata": {
    "execution": {
     "iopub.execute_input": "2024-04-16T09:19:26.414596Z",
     "iopub.status.busy": "2024-04-16T09:19:26.413592Z",
     "iopub.status.idle": "2024-04-16T09:19:26.425844Z",
     "shell.execute_reply": "2024-04-16T09:19:26.424409Z"
    },
    "papermill": {
     "duration": 0.030909,
     "end_time": "2024-04-16T09:19:26.428484",
     "exception": false,
     "start_time": "2024-04-16T09:19:26.397575",
     "status": "completed"
    },
    "tags": []
   },
   "outputs": [],
   "source": [
    "ipl['first_ings'] = ipl[['first_ings_score','first_ings_wkts']].astype(str).agg('-'.join,axis=1)\n",
    "ipl.drop(['first_ings_score','first_ings_wkts'],axis=1,inplace=True)\n",
    "col_b = ipl.pop('first_ings')\n",
    "ipl.insert(6, 'first_ings', col_b)"
   ]
  },
  {
   "cell_type": "code",
   "execution_count": 15,
   "id": "3aa9be76",
   "metadata": {
    "execution": {
     "iopub.execute_input": "2024-04-16T09:19:26.459272Z",
     "iopub.status.busy": "2024-04-16T09:19:26.458336Z",
     "iopub.status.idle": "2024-04-16T09:19:26.470761Z",
     "shell.execute_reply": "2024-04-16T09:19:26.469501Z"
    },
    "papermill": {
     "duration": 0.030698,
     "end_time": "2024-04-16T09:19:26.473396",
     "exception": false,
     "start_time": "2024-04-16T09:19:26.442698",
     "status": "completed"
    },
    "tags": []
   },
   "outputs": [],
   "source": [
    "ipl['second_ings'] = ipl[['second_ings_score','second_ings_wkts']].astype(str).agg('-'.join,axis=1)\n",
    "ipl.drop(['second_ings_score','second_ings_wkts'],axis=1,inplace=True)\n",
    "col_c = ipl.pop('second_ings')\n",
    "ipl.insert(7, 'second_ings', col_c)"
   ]
  },
  {
   "cell_type": "code",
   "execution_count": 16,
   "id": "9dd05152",
   "metadata": {
    "execution": {
     "iopub.execute_input": "2024-04-16T09:19:26.504171Z",
     "iopub.status.busy": "2024-04-16T09:19:26.503753Z",
     "iopub.status.idle": "2024-04-16T09:19:26.514433Z",
     "shell.execute_reply": "2024-04-16T09:19:26.513202Z"
    },
    "papermill": {
     "duration": 0.028869,
     "end_time": "2024-04-16T09:19:26.516834",
     "exception": false,
     "start_time": "2024-04-16T09:19:26.487965",
     "status": "completed"
    },
    "tags": []
   },
   "outputs": [],
   "source": [
    "ipl['won_by'] = ipl[['margin','won_by']].astype(str).agg(' '.join,axis=1)\n",
    "ipl.drop('margin',axis=1,inplace=True)\n"
   ]
  },
  {
   "cell_type": "code",
   "execution_count": 17,
   "id": "55486e1f",
   "metadata": {
    "execution": {
     "iopub.execute_input": "2024-04-16T09:19:26.548194Z",
     "iopub.status.busy": "2024-04-16T09:19:26.547234Z",
     "iopub.status.idle": "2024-04-16T09:19:26.568526Z",
     "shell.execute_reply": "2024-04-16T09:19:26.567373Z"
    },
    "papermill": {
     "duration": 0.03974,
     "end_time": "2024-04-16T09:19:26.571146",
     "exception": false,
     "start_time": "2024-04-16T09:19:26.531406",
     "status": "completed"
    },
    "tags": []
   },
   "outputs": [
    {
     "data": {
      "text/html": [
       "<div>\n",
       "<style scoped>\n",
       "    .dataframe tbody tr th:only-of-type {\n",
       "        vertical-align: middle;\n",
       "    }\n",
       "\n",
       "    .dataframe tbody tr th {\n",
       "        vertical-align: top;\n",
       "    }\n",
       "\n",
       "    .dataframe thead th {\n",
       "        text-align: right;\n",
       "    }\n",
       "</style>\n",
       "<table border=\"1\" class=\"dataframe\">\n",
       "  <thead>\n",
       "    <tr style=\"text-align: right;\">\n",
       "      <th></th>\n",
       "      <th>date</th>\n",
       "      <th>venue</th>\n",
       "      <th>team1</th>\n",
       "      <th>team2</th>\n",
       "      <th>stage</th>\n",
       "      <th>toss</th>\n",
       "      <th>first_ings</th>\n",
       "      <th>second_ings</th>\n",
       "      <th>match_winner</th>\n",
       "      <th>won_by</th>\n",
       "      <th>player_of_the_match</th>\n",
       "      <th>top_scorer</th>\n",
       "      <th>highscore</th>\n",
       "      <th>best_bowling</th>\n",
       "      <th>best_bowling_figure</th>\n",
       "    </tr>\n",
       "    <tr>\n",
       "      <th>match_id</th>\n",
       "      <th></th>\n",
       "      <th></th>\n",
       "      <th></th>\n",
       "      <th></th>\n",
       "      <th></th>\n",
       "      <th></th>\n",
       "      <th></th>\n",
       "      <th></th>\n",
       "      <th></th>\n",
       "      <th></th>\n",
       "      <th></th>\n",
       "      <th></th>\n",
       "      <th></th>\n",
       "      <th></th>\n",
       "      <th></th>\n",
       "    </tr>\n",
       "  </thead>\n",
       "  <tbody>\n",
       "    <tr>\n",
       "      <th>1</th>\n",
       "      <td>March 26,2022</td>\n",
       "      <td>Wankhede Stadium, Mumbai</td>\n",
       "      <td>Chennai</td>\n",
       "      <td>Kolkata</td>\n",
       "      <td>Group</td>\n",
       "      <td>Kolkata-Field</td>\n",
       "      <td>131-5</td>\n",
       "      <td>133-4</td>\n",
       "      <td>Kolkata</td>\n",
       "      <td>6 Wickets</td>\n",
       "      <td>Umesh Yadav</td>\n",
       "      <td>MS Dhoni</td>\n",
       "      <td>50</td>\n",
       "      <td>Dwayne Bravo</td>\n",
       "      <td>3--20</td>\n",
       "    </tr>\n",
       "    <tr>\n",
       "      <th>2</th>\n",
       "      <td>March 27,2022</td>\n",
       "      <td>Brabourne Stadium, Mumbai</td>\n",
       "      <td>Delhi</td>\n",
       "      <td>Mumbai</td>\n",
       "      <td>Group</td>\n",
       "      <td>Delhi-Field</td>\n",
       "      <td>177-5</td>\n",
       "      <td>179-6</td>\n",
       "      <td>Delhi</td>\n",
       "      <td>4 Wickets</td>\n",
       "      <td>Kuldeep Yadav</td>\n",
       "      <td>Ishan Kishan</td>\n",
       "      <td>81</td>\n",
       "      <td>Kuldeep Yadav</td>\n",
       "      <td>3--18</td>\n",
       "    </tr>\n",
       "    <tr>\n",
       "      <th>3</th>\n",
       "      <td>March 27,2022</td>\n",
       "      <td>Dr DY Patil Sports Academy, Mumbai</td>\n",
       "      <td>Banglore</td>\n",
       "      <td>Punjab</td>\n",
       "      <td>Group</td>\n",
       "      <td>Punjab-Field</td>\n",
       "      <td>205-2</td>\n",
       "      <td>208-5</td>\n",
       "      <td>Punjab</td>\n",
       "      <td>5 Wickets</td>\n",
       "      <td>Odean Smith</td>\n",
       "      <td>Faf du Plessis</td>\n",
       "      <td>88</td>\n",
       "      <td>Mohammed Siraj</td>\n",
       "      <td>2--59</td>\n",
       "    </tr>\n",
       "    <tr>\n",
       "      <th>4</th>\n",
       "      <td>March 28,2022</td>\n",
       "      <td>Wankhede Stadium, Mumbai</td>\n",
       "      <td>Gujarat</td>\n",
       "      <td>Lucknow</td>\n",
       "      <td>Group</td>\n",
       "      <td>Gujarat-Field</td>\n",
       "      <td>158-6</td>\n",
       "      <td>161-5</td>\n",
       "      <td>Gujarat</td>\n",
       "      <td>5 Wickets</td>\n",
       "      <td>Mohammed Shami</td>\n",
       "      <td>Deepak Hooda</td>\n",
       "      <td>55</td>\n",
       "      <td>Mohammed Shami</td>\n",
       "      <td>3--25</td>\n",
       "    </tr>\n",
       "    <tr>\n",
       "      <th>5</th>\n",
       "      <td>March 29,2022</td>\n",
       "      <td>Maharashtra Cricket Association Stadium,Pune</td>\n",
       "      <td>Hyderabad</td>\n",
       "      <td>Rajasthan</td>\n",
       "      <td>Group</td>\n",
       "      <td>Hyderabad-Field</td>\n",
       "      <td>210-6</td>\n",
       "      <td>149-7</td>\n",
       "      <td>Rajasthan</td>\n",
       "      <td>61 Runs</td>\n",
       "      <td>Sanju Samson</td>\n",
       "      <td>Aiden Markram</td>\n",
       "      <td>57</td>\n",
       "      <td>Yuzvendra Chahal</td>\n",
       "      <td>3--22</td>\n",
       "    </tr>\n",
       "  </tbody>\n",
       "</table>\n",
       "</div>"
      ],
      "text/plain": [
       "                   date                                         venue  \\\n",
       "match_id                                                                \n",
       "1         March 26,2022                      Wankhede Stadium, Mumbai   \n",
       "2         March 27,2022                     Brabourne Stadium, Mumbai   \n",
       "3         March 27,2022            Dr DY Patil Sports Academy, Mumbai   \n",
       "4         March 28,2022                      Wankhede Stadium, Mumbai   \n",
       "5         March 29,2022  Maharashtra Cricket Association Stadium,Pune   \n",
       "\n",
       "              team1      team2  stage             toss first_ings second_ings  \\\n",
       "match_id                                                                        \n",
       "1           Chennai    Kolkata  Group    Kolkata-Field      131-5       133-4   \n",
       "2             Delhi     Mumbai  Group      Delhi-Field      177-5       179-6   \n",
       "3          Banglore     Punjab  Group     Punjab-Field      205-2       208-5   \n",
       "4           Gujarat    Lucknow  Group    Gujarat-Field      158-6       161-5   \n",
       "5         Hyderabad  Rajasthan  Group  Hyderabad-Field      210-6       149-7   \n",
       "\n",
       "         match_winner     won_by player_of_the_match      top_scorer  \\\n",
       "match_id                                                               \n",
       "1             Kolkata  6 Wickets         Umesh Yadav        MS Dhoni   \n",
       "2               Delhi  4 Wickets       Kuldeep Yadav    Ishan Kishan   \n",
       "3              Punjab  5 Wickets         Odean Smith  Faf du Plessis   \n",
       "4             Gujarat  5 Wickets      Mohammed Shami    Deepak Hooda   \n",
       "5           Rajasthan    61 Runs        Sanju Samson   Aiden Markram   \n",
       "\n",
       "          highscore      best_bowling best_bowling_figure  \n",
       "match_id                                                   \n",
       "1                50      Dwayne Bravo               3--20  \n",
       "2                81     Kuldeep Yadav               3--18  \n",
       "3                88    Mohammed Siraj               2--59  \n",
       "4                55    Mohammed Shami               3--25  \n",
       "5                57  Yuzvendra Chahal               3--22  "
      ]
     },
     "execution_count": 17,
     "metadata": {},
     "output_type": "execute_result"
    }
   ],
   "source": [
    "ipl.head()"
   ]
  },
  {
   "cell_type": "markdown",
   "id": "d97af75d",
   "metadata": {
    "papermill": {
     "duration": 0.014749,
     "end_time": "2024-04-16T09:19:26.600820",
     "exception": false,
     "start_time": "2024-04-16T09:19:26.586071",
     "status": "completed"
    },
    "tags": []
   },
   "source": [
    "****Selecting only the required columns** **"
   ]
  },
  {
   "cell_type": "code",
   "execution_count": 18,
   "id": "8e86fb21",
   "metadata": {
    "execution": {
     "iopub.execute_input": "2024-04-16T09:19:26.632838Z",
     "iopub.status.busy": "2024-04-16T09:19:26.631964Z",
     "iopub.status.idle": "2024-04-16T09:19:26.650020Z",
     "shell.execute_reply": "2024-04-16T09:19:26.648889Z"
    },
    "papermill": {
     "duration": 0.036475,
     "end_time": "2024-04-16T09:19:26.652477",
     "exception": false,
     "start_time": "2024-04-16T09:19:26.616002",
     "status": "completed"
    },
    "tags": []
   },
   "outputs": [
    {
     "data": {
      "text/html": [
       "<div>\n",
       "<style scoped>\n",
       "    .dataframe tbody tr th:only-of-type {\n",
       "        vertical-align: middle;\n",
       "    }\n",
       "\n",
       "    .dataframe tbody tr th {\n",
       "        vertical-align: top;\n",
       "    }\n",
       "\n",
       "    .dataframe thead th {\n",
       "        text-align: right;\n",
       "    }\n",
       "</style>\n",
       "<table border=\"1\" class=\"dataframe\">\n",
       "  <thead>\n",
       "    <tr style=\"text-align: right;\">\n",
       "      <th></th>\n",
       "      <th>date</th>\n",
       "      <th>venue</th>\n",
       "      <th>team1</th>\n",
       "      <th>team2</th>\n",
       "      <th>stage</th>\n",
       "      <th>toss</th>\n",
       "      <th>first_ings</th>\n",
       "      <th>second_ings</th>\n",
       "      <th>match_winner</th>\n",
       "      <th>won_by</th>\n",
       "      <th>player_of_the_match</th>\n",
       "    </tr>\n",
       "    <tr>\n",
       "      <th>match_id</th>\n",
       "      <th></th>\n",
       "      <th></th>\n",
       "      <th></th>\n",
       "      <th></th>\n",
       "      <th></th>\n",
       "      <th></th>\n",
       "      <th></th>\n",
       "      <th></th>\n",
       "      <th></th>\n",
       "      <th></th>\n",
       "      <th></th>\n",
       "    </tr>\n",
       "  </thead>\n",
       "  <tbody>\n",
       "    <tr>\n",
       "      <th>1</th>\n",
       "      <td>March 26,2022</td>\n",
       "      <td>Wankhede Stadium, Mumbai</td>\n",
       "      <td>Chennai</td>\n",
       "      <td>Kolkata</td>\n",
       "      <td>Group</td>\n",
       "      <td>Kolkata-Field</td>\n",
       "      <td>131-5</td>\n",
       "      <td>133-4</td>\n",
       "      <td>Kolkata</td>\n",
       "      <td>6 Wickets</td>\n",
       "      <td>Umesh Yadav</td>\n",
       "    </tr>\n",
       "    <tr>\n",
       "      <th>2</th>\n",
       "      <td>March 27,2022</td>\n",
       "      <td>Brabourne Stadium, Mumbai</td>\n",
       "      <td>Delhi</td>\n",
       "      <td>Mumbai</td>\n",
       "      <td>Group</td>\n",
       "      <td>Delhi-Field</td>\n",
       "      <td>177-5</td>\n",
       "      <td>179-6</td>\n",
       "      <td>Delhi</td>\n",
       "      <td>4 Wickets</td>\n",
       "      <td>Kuldeep Yadav</td>\n",
       "    </tr>\n",
       "    <tr>\n",
       "      <th>3</th>\n",
       "      <td>March 27,2022</td>\n",
       "      <td>Dr DY Patil Sports Academy, Mumbai</td>\n",
       "      <td>Banglore</td>\n",
       "      <td>Punjab</td>\n",
       "      <td>Group</td>\n",
       "      <td>Punjab-Field</td>\n",
       "      <td>205-2</td>\n",
       "      <td>208-5</td>\n",
       "      <td>Punjab</td>\n",
       "      <td>5 Wickets</td>\n",
       "      <td>Odean Smith</td>\n",
       "    </tr>\n",
       "    <tr>\n",
       "      <th>4</th>\n",
       "      <td>March 28,2022</td>\n",
       "      <td>Wankhede Stadium, Mumbai</td>\n",
       "      <td>Gujarat</td>\n",
       "      <td>Lucknow</td>\n",
       "      <td>Group</td>\n",
       "      <td>Gujarat-Field</td>\n",
       "      <td>158-6</td>\n",
       "      <td>161-5</td>\n",
       "      <td>Gujarat</td>\n",
       "      <td>5 Wickets</td>\n",
       "      <td>Mohammed Shami</td>\n",
       "    </tr>\n",
       "    <tr>\n",
       "      <th>5</th>\n",
       "      <td>March 29,2022</td>\n",
       "      <td>Maharashtra Cricket Association Stadium,Pune</td>\n",
       "      <td>Hyderabad</td>\n",
       "      <td>Rajasthan</td>\n",
       "      <td>Group</td>\n",
       "      <td>Hyderabad-Field</td>\n",
       "      <td>210-6</td>\n",
       "      <td>149-7</td>\n",
       "      <td>Rajasthan</td>\n",
       "      <td>61 Runs</td>\n",
       "      <td>Sanju Samson</td>\n",
       "    </tr>\n",
       "  </tbody>\n",
       "</table>\n",
       "</div>"
      ],
      "text/plain": [
       "                   date                                         venue  \\\n",
       "match_id                                                                \n",
       "1         March 26,2022                      Wankhede Stadium, Mumbai   \n",
       "2         March 27,2022                     Brabourne Stadium, Mumbai   \n",
       "3         March 27,2022            Dr DY Patil Sports Academy, Mumbai   \n",
       "4         March 28,2022                      Wankhede Stadium, Mumbai   \n",
       "5         March 29,2022  Maharashtra Cricket Association Stadium,Pune   \n",
       "\n",
       "              team1      team2  stage             toss first_ings second_ings  \\\n",
       "match_id                                                                        \n",
       "1           Chennai    Kolkata  Group    Kolkata-Field      131-5       133-4   \n",
       "2             Delhi     Mumbai  Group      Delhi-Field      177-5       179-6   \n",
       "3          Banglore     Punjab  Group     Punjab-Field      205-2       208-5   \n",
       "4           Gujarat    Lucknow  Group    Gujarat-Field      158-6       161-5   \n",
       "5         Hyderabad  Rajasthan  Group  Hyderabad-Field      210-6       149-7   \n",
       "\n",
       "         match_winner     won_by player_of_the_match  \n",
       "match_id                                              \n",
       "1             Kolkata  6 Wickets         Umesh Yadav  \n",
       "2               Delhi  4 Wickets       Kuldeep Yadav  \n",
       "3              Punjab  5 Wickets         Odean Smith  \n",
       "4             Gujarat  5 Wickets      Mohammed Shami  \n",
       "5           Rajasthan    61 Runs        Sanju Samson  "
      ]
     },
     "execution_count": 18,
     "metadata": {},
     "output_type": "execute_result"
    }
   ],
   "source": [
    "ipl_2022 = ipl.iloc[:,:11]\n",
    "ipl_2022.head()"
   ]
  },
  {
   "cell_type": "markdown",
   "id": "7c8ab520",
   "metadata": {
    "papermill": {
     "duration": 0.014894,
     "end_time": "2024-04-16T09:19:26.682493",
     "exception": false,
     "start_time": "2024-04-16T09:19:26.667599",
     "status": "completed"
    },
    "tags": []
   },
   "source": [
    "**How many matches are played in each venue?**"
   ]
  },
  {
   "cell_type": "code",
   "execution_count": 19,
   "id": "dd310511",
   "metadata": {
    "execution": {
     "iopub.execute_input": "2024-04-16T09:19:26.717146Z",
     "iopub.status.busy": "2024-04-16T09:19:26.716109Z",
     "iopub.status.idle": "2024-04-16T09:19:26.960846Z",
     "shell.execute_reply": "2024-04-16T09:19:26.959685Z"
    },
    "papermill": {
     "duration": 0.264244,
     "end_time": "2024-04-16T09:19:26.963555",
     "exception": false,
     "start_time": "2024-04-16T09:19:26.699311",
     "status": "completed"
    },
    "tags": []
   },
   "outputs": [
    {
     "data": {
      "image/png": "[encoded data removed]",
      "text/plain": [
       "<Figure size 640x480 with 1 Axes>"
      ]
     },
     "metadata": {},
     "output_type": "display_data"
    }
   ],
   "source": [
    "import matplotlib.pyplot as plt\n",
    "\n",
    "x = ipl_2022['venue'].unique()\n",
    "y = ipl_2022.value_counts('venue')\n",
    "plt.barh(x,y,color = 'brown')\n",
    "plt.title('venue_matches')\n",
    "plt.xlabel('matches_played')\n",
    "plt.ylabel('venue')\n",
    "plt.show()"
   ]
  },
  {
   "cell_type": "markdown",
   "id": "75a97946",
   "metadata": {
    "papermill": {
     "duration": 0.015511,
     "end_time": "2024-04-16T09:19:26.995152",
     "exception": false,
     "start_time": "2024-04-16T09:19:26.979641",
     "status": "completed"
    },
    "tags": []
   },
   "source": [
    "**What is the win percentage of each team in ipl 2022?**"
   ]
  },
  {
   "cell_type": "code",
   "execution_count": 20,
   "id": "30db46b6",
   "metadata": {
    "execution": {
     "iopub.execute_input": "2024-04-16T09:19:27.028972Z",
     "iopub.status.busy": "2024-04-16T09:19:27.028547Z",
     "iopub.status.idle": "2024-04-16T09:19:27.221765Z",
     "shell.execute_reply": "2024-04-16T09:19:27.220521Z"
    },
    "papermill": {
     "duration": 0.216368,
     "end_time": "2024-04-16T09:19:27.227832",
     "exception": false,
     "start_time": "2024-04-16T09:19:27.011464",
     "status": "completed"
    },
    "tags": []
   },
   "outputs": [
    {
     "data": {
      "image/png": "[encoded data removed]",
      "text/plain": [
       "<Figure size 640x480 with 1 Axes>"
      ]
     },
     "metadata": {},
     "output_type": "display_data"
    }
   ],
   "source": [
    "labels = ipl_2022['match_winner'].unique()\n",
    "sizes = ipl_2022.value_counts('match_winner')\n",
    "plt.pie(sizes, labels=labels, autopct='%1.1f%%', startangle=90)\n",
    "plt.axis('equal')\n",
    "plt.title('Team win percentage')\n",
    "plt.show()\n"
   ]
  },
  {
   "cell_type": "markdown",
   "id": "b616c21b",
   "metadata": {
    "papermill": {
     "duration": 0.02914,
     "end_time": "2024-04-16T09:19:27.293086",
     "exception": false,
     "start_time": "2024-04-16T09:19:27.263946",
     "status": "completed"
    },
    "tags": []
   },
   "source": [
    "**CONCLUSION**\n",
    "\n",
    "A complete analysis of ipl dataset has been performed ,various interesting questions are asked and some related visualizations like bar chart,scatter plot are also shown.Various columns have been combined so that the only required information is seen in a quicker and easier manner,thus only fetching required columns of data about the ipl."
   ]
  }
 ],
 "metadata": {
  "kaggle": {
   "accelerator": "none",
   "dataSources": [
    {
     "datasetId": 2065244,
     "sourceId": 3720746,
     "sourceType": "datasetVersion"
    }
   ],
   "dockerImageVersionId": 30673,
   "isGpuEnabled": false,
   "isInternetEnabled": false,
   "language": "python",
   "sourceType": "notebook"
  },
  "kernelspec": {
   "display_name": "Python 3",
   "language": "python",
   "name": "python3"
  },
  "language_info": {
   "codemirror_mode": {
    "name": "ipython",
    "version": 3
   },
   "file_extension": ".py",
   "mimetype": "text/x-python",
   "name": "python",
   "nbconvert_exporter": "python",
   "pygments_lexer": "ipython3",
   "version": "3.10.13"
  },
  "papermill": {
   "default_parameters": {},
   "duration": 7.145195,
   "end_time": "2024-04-16T09:19:27.831397",
   "environment_variables": {},
   "exception": null,
   "input_path": "__notebook__.ipynb",
   "output_path": "__notebook__.ipynb",
   "parameters": {},
   "start_time": "2024-04-16T09:19:20.686202",
   "version": "2.5.0"
  }
 },
 "nbformat": 4,
 "nbformat_minor": 5
}
